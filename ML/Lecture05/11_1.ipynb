{
 "cells": [
  {
   "cell_type": "markdown",
   "metadata": {},
   "source": [
    "## 평균값의 차이 검정\n",
    "\n",
    "### 2집단 데이터에 대한 t-검정\n",
    "\n",
    "- 대응표본: 약을 먹기 전과 먹은 후 체온 차\n",
    "- 독립표본: 큰 바늘로 잡은 물고기와 작은 바늘로 잡은 물고기 몸길이 차\n"
   ]
  },
  {
   "cell_type": "markdown",
   "metadata": {},
   "source": [
    "### 대응표본 t-검정 (Paired t-test)\n",
    "\n",
    "- 약을 먹기 전과 먹은 후 체온 차\n",
    "\n",
    "#### 데이터 읽기 \n",
    "- [열이름 한글일 때의 문제 해결](https://teddylee777.github.io/pandas/%EA%B3%B5%EA%B3%B5%EB%8D%B0%EC%9D%B4%ED%84%B0-%ED%95%9C%EA%B8%80%EA%B9%A8%EC%A7%90%ED%98%84%EC%83%81-%ED%95%B4%EA%B2%B0%EB%B0%A9%EB%B2%95) "
   ]
  },
  {
   "cell_type": "code",
   "execution_count": 1,
   "metadata": {},
   "outputs": [],
   "source": [
    "import numpy as np\n",
    "import pandas as pd\n",
    "import scipy as sp\n",
    "from scipy import stats\n",
    "from matplotlib import pyplot as plt\n",
    "import seaborn as sns\n",
    "\n",
    "import random as rd\n",
    "#sns.set()\n",
    "\n",
    "%precision 3\n",
    "%matplotlib inline"
   ]
  },
  {
   "cell_type": "code",
   "execution_count": 2,
   "metadata": {
    "scrolled": true
   },
   "outputs": [
    {
     "data": {
      "text/plain": "  teseter  Before  After\n0       A    36.2   36.8\n1       B    36.2   36.1\n2       C    35.3   36.8\n3       D    36.1   37.1\n4       E    36.1   36.9",
      "text/html": "<div>\n<style scoped>\n    .dataframe tbody tr th:only-of-type {\n        vertical-align: middle;\n    }\n\n    .dataframe tbody tr th {\n        vertical-align: top;\n    }\n\n    .dataframe thead th {\n        text-align: right;\n    }\n</style>\n<table border=\"1\" class=\"dataframe\">\n  <thead>\n    <tr style=\"text-align: right;\">\n      <th></th>\n      <th>teseter</th>\n      <th>Before</th>\n      <th>After</th>\n    </tr>\n  </thead>\n  <tbody>\n    <tr>\n      <th>0</th>\n      <td>A</td>\n      <td>36.2</td>\n      <td>36.8</td>\n    </tr>\n    <tr>\n      <th>1</th>\n      <td>B</td>\n      <td>36.2</td>\n      <td>36.1</td>\n    </tr>\n    <tr>\n      <th>2</th>\n      <td>C</td>\n      <td>35.3</td>\n      <td>36.8</td>\n    </tr>\n    <tr>\n      <th>3</th>\n      <td>D</td>\n      <td>36.1</td>\n      <td>37.1</td>\n    </tr>\n    <tr>\n      <th>4</th>\n      <td>E</td>\n      <td>36.1</td>\n      <td>36.9</td>\n    </tr>\n  </tbody>\n</table>\n</div>"
     },
     "execution_count": 2,
     "metadata": {},
     "output_type": "execute_result"
    }
   ],
   "source": [
    "# 데이터 읽기 \n",
    "paired_data=pd.read_csv(\"./data.csv\")\n",
    "paired_data"
   ]
  },
  {
   "cell_type": "markdown",
   "metadata": {},
   "source": [
    "#### 차이가 0과 다른지를 확인해 봐야 약이 효과가 있는지 없는지 알 수 있음\n",
    "\n",
    "- Paired 데이터의 차이가 0과 통계적으로 다른지 확인해야 함 \n",
    "    - ttest_1samp: 차를 이용하는 경우\n",
    "    - ttest_rel: 두 개의 데이터를 이용하는 경우 "
   ]
  },
  {
   "cell_type": "code",
   "execution_count": 3,
   "metadata": {
    "scrolled": true
   },
   "outputs": [
    {
     "data": {
      "text/plain": "0    0.6\n1   -0.1\n2    1.5\n3    1.0\n4    0.8\nName: Diff, dtype: float64"
     },
     "execution_count": 3,
     "metadata": {},
     "output_type": "execute_result"
    }
   ],
   "source": [
    "paired_data['Diff'] = paired_data['After'] - paired_data['Before']\n",
    "paired_data['Diff']"
   ]
  },
  {
   "cell_type": "code",
   "execution_count": 5,
   "metadata": {},
   "outputs": [
    {
     "data": {
      "text/plain": "Ttest_1sampResult(statistic=2.901693483620596, pvalue=0.044043109730074276)"
     },
     "execution_count": 5,
     "metadata": {},
     "output_type": "execute_result"
    }
   ],
   "source": [
    "temp = stats.ttest_1samp(paired_data['Diff'], 0)\n",
    "\n",
    "temp"
   ]
  },
  {
   "cell_type": "code",
   "execution_count": 17,
   "metadata": {},
   "outputs": [
    {
     "data": {
      "text/plain": [
       "Ttest_relResult(statistic=-2.901693483620596, pvalue=0.044043109730074276)"
      ]
     },
     "execution_count": 17,
     "metadata": {},
     "output_type": "execute_result"
    }
   ],
   "source": [
    "stats.ttest_rel(paired_data['Before'],paired_data['After'])"
   ]
  },
  {
   "cell_type": "markdown",
   "metadata": {},
   "source": [
    "### 독립표본 t-검정 (Welch 근사법)\n",
    "\n",
    "$$ t = \\frac{\\hat{\\mu_x}-\\hat{\\mu_y}}{\\sqrt{\\hat{\\sigma}_x^2/m+\\hat{\\sigma}_y^2/n}} $$\n",
    "\n",
    "- 서로 표본크기가 다르고 표본분산이 다른 경우도 사용가능 \n",
    "- 위와 같은 데이터를 이용하여 검정\n",
    "- 책에는 각각을 계산하여 검정하는 내용 제시\n",
    "- 하나의 함수로 해결가능: ttest_ind, equal_var=False\n",
    "- 기존에는 먼저 분산이 둘이 같은지를 검정한 후에 등분산 가정을 이용해 진행하는 방법이 있었음\n",
    "- 언제나 같지 않다는 가정으로 시작하면 위의 과정 필요없음"
   ]
  },
  {
   "cell_type": "code",
   "execution_count": 18,
   "metadata": {},
   "outputs": [
    {
     "data": {
      "text/plain": [
       "Ttest_indResult(statistic=-3.1557282344421034, pvalue=0.013484775682079892)"
      ]
     },
     "execution_count": 18,
     "metadata": {},
     "output_type": "execute_result"
    }
   ],
   "source": [
    "stats.ttest_ind(paired_data['Before'],paired_data['After'],equal_var=False)"
   ]
  },
  {
   "cell_type": "markdown",
   "metadata": {},
   "source": [
    "#### 물고기를 서로 다른 호수에서 50, 100 마리 잡은 경우"
   ]
  },
  {
   "cell_type": "code",
   "execution_count": 6,
   "metadata": {},
   "outputs": [],
   "source": [
    "fish_a = np.random.normal(loc=4, scale=0.8, size=5)\n",
    "fish_b = np.random.normal(loc=4.3, scale=0.8, size=10)"
   ]
  },
  {
   "cell_type": "code",
   "execution_count": 7,
   "metadata": {},
   "outputs": [
    {
     "data": {
      "text/plain": "4.426840363584885"
     },
     "execution_count": 7,
     "metadata": {},
     "output_type": "execute_result"
    }
   ],
   "source": [
    "fish_a.mean()"
   ]
  },
  {
   "cell_type": "code",
   "execution_count": 8,
   "metadata": {},
   "outputs": [
    {
     "data": {
      "text/plain": "Ttest_indResult(statistic=0.17622773719501567, pvalue=0.8663364056617495)"
     },
     "execution_count": 8,
     "metadata": {},
     "output_type": "execute_result"
    }
   ],
   "source": [
    "stats.ttest_ind(fish_a, fish_b, equal_var=False)"
   ]
  },
  {
   "cell_type": "code",
   "execution_count": 2,
   "metadata": {},
   "outputs": [],
   "source": [
    "fish_a = np.random.normal(loc=4, scale=0.8, size=500)\n",
    "fish_b = np.random.normal(loc=4.3, scale=0.8, size=50)"
   ]
  },
  {
   "cell_type": "code",
   "execution_count": 3,
   "metadata": {},
   "outputs": [
    {
     "data": {
      "text/plain": "3.9513279750181747"
     },
     "execution_count": 3,
     "metadata": {},
     "output_type": "execute_result"
    }
   ],
   "source": [
    "fish_a.mean()"
   ]
  },
  {
   "cell_type": "code",
   "execution_count": 4,
   "metadata": {},
   "outputs": [
    {
     "data": {
      "text/plain": "4.356852246249944"
     },
     "execution_count": 4,
     "metadata": {},
     "output_type": "execute_result"
    }
   ],
   "source": [
    "fish_b.mean()"
   ]
  },
  {
   "cell_type": "code",
   "execution_count": 5,
   "metadata": {},
   "outputs": [
    {
     "data": {
      "text/plain": "Ttest_indResult(statistic=-3.3755664016824496, pvalue=0.001320164510669208)"
     },
     "execution_count": 5,
     "metadata": {},
     "output_type": "execute_result"
    }
   ],
   "source": [
    "stats.ttest_ind(fish_a, fish_b, equal_var=False)"
   ]
  },
  {
   "cell_type": "code",
   "execution_count": 7,
   "metadata": {
    "scrolled": true
   },
   "outputs": [
    {
     "data": {
      "text/plain": "{'whiskers': [<matplotlib.lines.Line2D at 0x7fdf735a4470>,\n  <matplotlib.lines.Line2D at 0x7fdf735a4748>,\n  <matplotlib.lines.Line2D at 0x7fdf735b3898>,\n  <matplotlib.lines.Line2D at 0x7fdf735b3b70>],\n 'caps': [<matplotlib.lines.Line2D at 0x7fdf735a4a20>,\n  <matplotlib.lines.Line2D at 0x7fdf735a4cf8>,\n  <matplotlib.lines.Line2D at 0x7fdf735b3e48>,\n  <matplotlib.lines.Line2D at 0x7fdf7361b160>],\n 'boxes': [<matplotlib.lines.Line2D at 0x7fdf735a4208>,\n  <matplotlib.lines.Line2D at 0x7fdf735b34e0>],\n 'medians': [<matplotlib.lines.Line2D at 0x7fdf735a4fd0>,\n  <matplotlib.lines.Line2D at 0x7fdf7361b438>],\n 'fliers': [<matplotlib.lines.Line2D at 0x7fdf735b32e8>,\n  <matplotlib.lines.Line2D at 0x7fdf7361b710>],\n 'means': []}"
     },
     "execution_count": 7,
     "metadata": {},
     "output_type": "execute_result"
    },
    {
     "data": {
      "text/plain": "<Figure size 432x288 with 1 Axes>",
      "image/png": "[encoded data removed]"
     },
     "metadata": {
      "needs_background": "light"
     },
     "output_type": "display_data"
    }
   ],
   "source": [
    "plt.boxplot([fish_a, fish_b])"
   ]
  },
  {
   "cell_type": "code",
   "execution_count": 8,
   "metadata": {},
   "outputs": [
    {
     "data": {
      "text/plain": "<Figure size 432x288 with 1 Axes>",
      "image/png": "[encoded data removed]"
     },
     "metadata": {
      "needs_background": "light"
     },
     "output_type": "display_data"
    }
   ],
   "source": [
    "df = len(fish_a) - 1\n",
    "tcrit1 = stats.t.ppf(0.975, df)\n",
    "df = len(fish_b) - 1\n",
    "tcrit2 = stats.t.ppf(0.975, df)\n",
    "\n",
    "x = ['fish_a', 'fish_b']\n",
    "y = [fish_a.mean(), fish_b.mean()]\n",
    "_ = plt.errorbar(x, y, yerr=[tcrit1 * fish_a.std(ddof=1) / np.sqrt(len(fish_a)), tcrit1 * fish_b.std(ddof=1) / np.sqrt(len(fish_b))], fmt='.k')"
   ]
  },
  {
   "cell_type": "markdown",
   "metadata": {},
   "source": [
    "### p 해킹\n",
    "\n",
    "- 데이터를 원하는 결과를 얻기위해 임의로 다루지 말아야 함"
   ]
  },
  {
   "cell_type": "markdown",
   "metadata": {},
   "source": [
    "## 분할표 검정 ($ \\chi^2$ 검정)\n",
    "\n",
    "[참고자료](https://m.blog.naver.com/PostView.nhn?blogId=definitice&logNo=221118885966&proxyReferer=https:%2F%2Fwww.google.com%2F)\n",
    "\n",
    "[참고 동영상](https://www.youtube.com/watch?v=NTHA9Qa81R8)\n",
    "\n",
    "- 독립성 검정\n",
    "- 어떤 결과변수에 대한 두 효과의 영향이 서로 독립적인가를 판단함\n",
    "\n",
    "$$ \\chi^2 = \\sum_{i=1}^{2}\\sum_{j=1}^{2} \\frac{(O_{ij} - E_{ij} )^2}{E_{ij}} $$\n",
    "\n",
    "- 자유도 df=(r-1)(c-1)\n"
   ]
  },
  {
   "cell_type": "code",
   "execution_count": 9,
   "metadata": {},
   "outputs": [
    {
     "data": {
      "text/plain": "<matplotlib.legend.Legend at 0x7fdf737ce898>"
     },
     "execution_count": 9,
     "metadata": {},
     "output_type": "execute_result"
    },
    {
     "data": {
      "text/plain": "<Figure size 864x432 with 1 Axes>",
      "image/png": "[encoded data removed]"
     },
     "metadata": {
      "needs_background": "light"
     },
     "output_type": "display_data"
    }
   ],
   "source": [
    "x = np.arange(0, 60, 0.01)\n",
    "plt.figure(figsize=(12, 6))\n",
    "plt.plot(x, stats.chi2.pdf(x, 2), label=\"df=2\")\n",
    "plt.plot(x, stats.chi2.pdf(x, 5), label=\"df=5\")\n",
    "plt.plot(x, stats.chi2.pdf(x, 30), label=\"df=30\")\n",
    "plt.xlabel(\"x\")\n",
    "plt.ylabel(\"p\")\n",
    "\n",
    "plt.legend()"
   ]
  },
  {
   "cell_type": "code",
   "execution_count": 10,
   "metadata": {},
   "outputs": [
    {
     "data": {
      "text/plain": "[<matplotlib.lines.Line2D at 0x7fdf68ea97f0>]"
     },
     "execution_count": 10,
     "metadata": {},
     "output_type": "execute_result"
    },
    {
     "data": {
      "text/plain": "<Figure size 432x288 with 0 Axes>"
     },
     "metadata": {},
     "output_type": "display_data"
    },
    {
     "data": {
      "text/plain": "<Figure size 864x432 with 1 Axes>",
      "image/png": "[encoded data removed]"
     },
     "metadata": {
      "needs_background": "light"
     },
     "output_type": "display_data"
    }
   ],
   "source": [
    "x = np.arange(0, 8, 0.01)\n",
    "df = 1 # 자유도\n",
    "fig = plt.figure()\n",
    "plt.figure(figsize=(12, 6))\n",
    "plt.plot(x, stats.chi2.pdf(x, df), label=\"df=1\")\n",
    "axes = plt.gca()\n",
    "xcrit = stats.chi2.ppf(0.95, df)\n",
    "\n",
    "xxx = np.arange(0, xcrit + 0.00000001, 0.01)\n",
    "temp = stats.chi2.pdf(xxx, df)\n",
    "\n",
    "plt.fill_between(xxx, 0, temp, alpha=0.5)\n",
    "\n",
    "y = axes.get_ylim()[1]\n",
    "\n",
    "obse = np.array([20, 230, 10, 40])\n",
    "expt = np.array([25, 225, 5, 45])\n",
    "\n",
    "chi2 = np.sum((obse - expt)**2 / expt)\n",
    "\n",
    "xx = np.array([chi2, chi2])\n",
    "yy = np.array([0, y])\n",
    "plt.plot(xx, yy)"
   ]
  },
  {
   "cell_type": "code",
   "execution_count": 11,
   "metadata": {},
   "outputs": [
    {
     "data": {
      "text/plain": "0.009823274507519297"
     },
     "execution_count": 11,
     "metadata": {},
     "output_type": "execute_result"
    }
   ],
   "source": [
    "pval = 1 - stats.chi2.cdf(chi2, df)\n",
    "pval"
   ]
  },
  {
   "cell_type": "markdown",
   "metadata": {},
   "source": [
    "#### scipy module 내 함수\n",
    "\n",
    "- sp.stats.chisquare(f_obs=obse,f_exp=expt,ddof)\n",
    "- sp.stats.chi2_contingency(cross, correction=False)"
   ]
  },
  {
   "cell_type": "code",
   "execution_count": 114,
   "metadata": {},
   "outputs": [
    {
     "data": {
      "text/plain": [
       "Power_divergenceResult(statistic=6.666666666666666, pvalue=0.009823274507519247)"
      ]
     },
     "execution_count": 114,
     "metadata": {},
     "output_type": "execute_result"
    }
   ],
   "source": [
    "stats.chisquare(f_obs=obse,f_exp=expt,ddof=2)"
   ]
  },
  {
   "cell_type": "code",
   "execution_count": 12,
   "metadata": {},
   "outputs": [
    {
     "data": {
      "text/plain": "click  click  not\ncolor            \nblue      20  230\nred       10   40",
      "text/html": "<div>\n<style scoped>\n    .dataframe tbody tr th:only-of-type {\n        vertical-align: middle;\n    }\n\n    .dataframe tbody tr th {\n        vertical-align: top;\n    }\n\n    .dataframe thead th {\n        text-align: right;\n    }\n</style>\n<table border=\"1\" class=\"dataframe\">\n  <thead>\n    <tr style=\"text-align: right;\">\n      <th>click</th>\n      <th>click</th>\n      <th>not</th>\n    </tr>\n    <tr>\n      <th>color</th>\n      <th></th>\n      <th></th>\n    </tr>\n  </thead>\n  <tbody>\n    <tr>\n      <th>blue</th>\n      <td>20</td>\n      <td>230</td>\n    </tr>\n    <tr>\n      <th>red</th>\n      <td>10</td>\n      <td>40</td>\n    </tr>\n  </tbody>\n</table>\n</div>"
     },
     "execution_count": 12,
     "metadata": {},
     "output_type": "execute_result"
    }
   ],
   "source": [
    "data=pd.read_csv(\"./data2.csv\")\n",
    "\n",
    "cross=pd.pivot_table(\n",
    "    data=data,\n",
    "    values=\"freq\",\n",
    "    aggfunc=\"sum\",\n",
    "    index=\"color\",\n",
    "    columns=\"click\"\n",
    ")\n",
    "\n",
    "cross"
   ]
  },
  {
   "cell_type": "code",
   "execution_count": 116,
   "metadata": {},
   "outputs": [
    {
     "data": {
      "text/html": [
       "<div>\n",
       "<style scoped>\n",
       "    .dataframe tbody tr th:only-of-type {\n",
       "        vertical-align: middle;\n",
       "    }\n",
       "\n",
       "    .dataframe tbody tr th {\n",
       "        vertical-align: top;\n",
       "    }\n",
       "\n",
       "    .dataframe thead th {\n",
       "        text-align: right;\n",
       "    }\n",
       "</style>\n",
       "<table border=\"1\" class=\"dataframe\">\n",
       "  <thead>\n",
       "    <tr style=\"text-align: right;\">\n",
       "      <th></th>\n",
       "      <th>color</th>\n",
       "      <th>click</th>\n",
       "      <th>freq</th>\n",
       "    </tr>\n",
       "  </thead>\n",
       "  <tbody>\n",
       "    <tr>\n",
       "      <td>0</td>\n",
       "      <td>blue</td>\n",
       "      <td>click</td>\n",
       "      <td>20</td>\n",
       "    </tr>\n",
       "    <tr>\n",
       "      <td>1</td>\n",
       "      <td>blue</td>\n",
       "      <td>not</td>\n",
       "      <td>230</td>\n",
       "    </tr>\n",
       "    <tr>\n",
       "      <td>2</td>\n",
       "      <td>red</td>\n",
       "      <td>click</td>\n",
       "      <td>10</td>\n",
       "    </tr>\n",
       "    <tr>\n",
       "      <td>3</td>\n",
       "      <td>red</td>\n",
       "      <td>not</td>\n",
       "      <td>40</td>\n",
       "    </tr>\n",
       "  </tbody>\n",
       "</table>\n",
       "</div>"
      ],
      "text/plain": [
       "  color  click  freq\n",
       "0  blue  click    20\n",
       "1  blue    not   230\n",
       "2   red  click    10\n",
       "3   red    not    40"
      ]
     },
     "execution_count": 116,
     "metadata": {},
     "output_type": "execute_result"
    }
   ],
   "source": [
    "data"
   ]
  },
  {
   "cell_type": "code",
   "execution_count": 117,
   "metadata": {},
   "outputs": [
    {
     "data": {
      "text/plain": [
       "(6.666666666666666, 0.009823274507519247, 1, array([[ 25., 225.],\n",
       "        [  5.,  45.]]))"
      ]
     },
     "execution_count": 117,
     "metadata": {},
     "output_type": "execute_result"
    }
   ],
   "source": [
    "stats.chi2_contingency(cross, correction=False)"
   ]
  },
  {
   "cell_type": "markdown",
   "metadata": {},
   "source": [
    "## 검정 결과 해석\n",
    "\n",
    "### p 값 < 0.05 인 경우\n",
    "- 유의미한 차이가 있음\n",
    "- 노때제과 가나초콜릿의 중량은 50g과 통계적으로 유의미한 차이가 있다.\n",
    "\n",
    "### p 값 > 0.05 인 경우\n",
    "- 노때제과 가나초콜릿의 중량은 50g과 통계적으로 유의한 차이가 있다고 말할 수 없다.\n",
    "- \"같다\"라고 말하는 것이 아니라 다르다는 증거를 찾지 못했다는 뜻\n",
    "\n",
    "### 제1종 오류\n",
    "- 귀무가설이 올바르지만 실수하여 귀무가설을 기각하는 경우 (p-값: 그 확률)\n",
    "- p-값이 작으면 이 오류가 일어날 확률이 작다는 것 \n",
    "\n",
    "### 제2종 오류\n",
    "- 귀무가설이 틀렸는데 실수로 귀무가설을 채택하는 경우\n",
    "- 검정의 비대칭성 : 제1종 오류는 그 확률을 조절할수 있지만 제2종 오류는 그럴 수 없음 \n",
    "\n",
    "### 유의수준은 검정 전에 정할 것 \n",
    "- 유의수준은 분야에 따라 다를 수 있음\n",
    "\n",
    "### 나머지는 책을 숙독해주세요~\n"
   ]
  },
  {
   "cell_type": "code",
   "execution_count": null,
   "metadata": {},
   "outputs": [],
   "source": []
  }
 ],
 "metadata": {
  "kernelspec": {
   "display_name": "Python 3",
   "language": "python",
   "name": "python3"
  },
  "language_info": {
   "codemirror_mode": {
    "name": "ipython",
    "version": 3
   },
   "file_extension": ".py",
   "mimetype": "text/x-python",
   "name": "python",
   "nbconvert_exporter": "python",
   "pygments_lexer": "ipython3",
   "version": "3.7.4"
  }
 },
 "nbformat": 4,
 "nbformat_minor": 2
}