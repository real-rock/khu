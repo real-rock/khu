{
 "cells": [
  {
   "cell_type": "markdown",
   "metadata": {},
   "source": [
    "## 깔끔한 데이터\n",
    "\n",
    "### 깔끔한 데이터(tidy data)의 특징\n",
    "\n",
    "1. 개별 값이 하나의 셀을 이룬다.\n",
    "2. 개별변수가 하나의 열을 이룬다.\n",
    "3. 개별 관측이 하나의 행을 이룬다.\n",
    "4. 개별 관측 유닛 유형이 하나의 표를 이룬다.\n",
    "\n",
    "#### 깔끔한 데이터 예\n",
    "\n",
    "![그림. 깔끔한 데이터1](tidy1.png)\n",
    "\n",
    "![그림. 깔끔한 데이터2](tidy3.png)\n",
    "\n",
    "#### 지저분한 데이터 예\n",
    "\n",
    "![그림. 지저분한 데이터1](tidy2.png)\n",
    "\n",
    "![그림. 지저분한 데이터2](tidy4.png)\n",
    "\n",
    "\n",
    "\n",
    "[참고사이트](https://partrita.github.io/posts/tidy-data/)\n"
   ]
  },
  {
   "cell_type": "markdown",
   "metadata": {},
   "source": [
    "\n",
    "```\n",
    "import numpy as np\n",
    "import pandas as pd\n",
    "\n",
    "# 출력되는 소숫점 자리수 \n",
    "%precision %.3e\n",
    "\n",
    "fish_multi=pd.read_csv(\"fish.csv\")\n",
    "fish_multi\n",
    "```\n",
    "\n",
    "### 그룹별 통계량 계산하기 \n",
    "\n",
    "```\n",
    "group=fish_multi.groupby('species')\n",
    "group.mean()\n",
    "group.std(ddof=1)\n",
    "group.describe()\n",
    "```"
   ]
  },
  {
   "cell_type": "code",
   "execution_count": 2,
   "metadata": {},
   "outputs": [
    {
     "data": {
      "text/plain": "   species  length\n0        A       2\n1        A       3\n2        A       3\n3        A       4\n4        A       4\n5        A       4\n6        A       4\n7        A       5\n8        A       5\n9        A       6\n10       B       5\n11       B       6\n12       B       6\n13       B       7\n14       B       7\n15       B       7\n16       B       7\n17       B       8\n18       B       8\n19       B       9",
      "text/html": "<div>\n<style scoped>\n    .dataframe tbody tr th:only-of-type {\n        vertical-align: middle;\n    }\n\n    .dataframe tbody tr th {\n        vertical-align: top;\n    }\n\n    .dataframe thead th {\n        text-align: right;\n    }\n</style>\n<table border=\"1\" class=\"dataframe\">\n  <thead>\n    <tr style=\"text-align: right;\">\n      <th></th>\n      <th>species</th>\n      <th>length</th>\n    </tr>\n  </thead>\n  <tbody>\n    <tr>\n      <th>0</th>\n      <td>A</td>\n      <td>2</td>\n    </tr>\n    <tr>\n      <th>1</th>\n      <td>A</td>\n      <td>3</td>\n    </tr>\n    <tr>\n      <th>2</th>\n      <td>A</td>\n      <td>3</td>\n    </tr>\n    <tr>\n      <th>3</th>\n      <td>A</td>\n      <td>4</td>\n    </tr>\n    <tr>\n      <th>4</th>\n      <td>A</td>\n      <td>4</td>\n    </tr>\n    <tr>\n      <th>5</th>\n      <td>A</td>\n      <td>4</td>\n    </tr>\n    <tr>\n      <th>6</th>\n      <td>A</td>\n      <td>4</td>\n    </tr>\n    <tr>\n      <th>7</th>\n      <td>A</td>\n      <td>5</td>\n    </tr>\n    <tr>\n      <th>8</th>\n      <td>A</td>\n      <td>5</td>\n    </tr>\n    <tr>\n      <th>9</th>\n      <td>A</td>\n      <td>6</td>\n    </tr>\n    <tr>\n      <th>10</th>\n      <td>B</td>\n      <td>5</td>\n    </tr>\n    <tr>\n      <th>11</th>\n      <td>B</td>\n      <td>6</td>\n    </tr>\n    <tr>\n      <th>12</th>\n      <td>B</td>\n      <td>6</td>\n    </tr>\n    <tr>\n      <th>13</th>\n      <td>B</td>\n      <td>7</td>\n    </tr>\n    <tr>\n      <th>14</th>\n      <td>B</td>\n      <td>7</td>\n    </tr>\n    <tr>\n      <th>15</th>\n      <td>B</td>\n      <td>7</td>\n    </tr>\n    <tr>\n      <th>16</th>\n      <td>B</td>\n      <td>7</td>\n    </tr>\n    <tr>\n      <th>17</th>\n      <td>B</td>\n      <td>8</td>\n    </tr>\n    <tr>\n      <th>18</th>\n      <td>B</td>\n      <td>8</td>\n    </tr>\n    <tr>\n      <th>19</th>\n      <td>B</td>\n      <td>9</td>\n    </tr>\n  </tbody>\n</table>\n</div>"
     },
     "execution_count": 2,
     "metadata": {},
     "output_type": "execute_result"
    }
   ],
   "source": [
    "import numpy as np\n",
    "import pandas as pd\n",
    "\n",
    "# 출력되는 소숫점 자리수 \n",
    "%precision %.3e\n",
    "\n",
    "fish_multi=pd.read_csv(\"./dataset/fish.csv\")\n",
    "fish_multi"
   ]
  },
  {
   "cell_type": "code",
   "execution_count": 3,
   "metadata": {},
   "outputs": [
    {
     "data": {
      "text/plain": "        length                                          \n         count mean       std  min   25%  50%   75%  max\nspecies                                                 \nA         10.0  4.0  1.154701  2.0  3.25  4.0  4.75  6.0\nB         10.0  7.0  1.154701  5.0  6.25  7.0  7.75  9.0",
      "text/html": "<div>\n<style scoped>\n    .dataframe tbody tr th:only-of-type {\n        vertical-align: middle;\n    }\n\n    .dataframe tbody tr th {\n        vertical-align: top;\n    }\n\n    .dataframe thead tr th {\n        text-align: left;\n    }\n\n    .dataframe thead tr:last-of-type th {\n        text-align: right;\n    }\n</style>\n<table border=\"1\" class=\"dataframe\">\n  <thead>\n    <tr>\n      <th></th>\n      <th colspan=\"8\" halign=\"left\">length</th>\n    </tr>\n    <tr>\n      <th></th>\n      <th>count</th>\n      <th>mean</th>\n      <th>std</th>\n      <th>min</th>\n      <th>25%</th>\n      <th>50%</th>\n      <th>75%</th>\n      <th>max</th>\n    </tr>\n    <tr>\n      <th>species</th>\n      <th></th>\n      <th></th>\n      <th></th>\n      <th></th>\n      <th></th>\n      <th></th>\n      <th></th>\n      <th></th>\n    </tr>\n  </thead>\n  <tbody>\n    <tr>\n      <th>A</th>\n      <td>10.0</td>\n      <td>4.0</td>\n      <td>1.154701</td>\n      <td>2.0</td>\n      <td>3.25</td>\n      <td>4.0</td>\n      <td>4.75</td>\n      <td>6.0</td>\n    </tr>\n    <tr>\n      <th>B</th>\n      <td>10.0</td>\n      <td>7.0</td>\n      <td>1.154701</td>\n      <td>5.0</td>\n      <td>6.25</td>\n      <td>7.0</td>\n      <td>7.75</td>\n      <td>9.0</td>\n    </tr>\n  </tbody>\n</table>\n</div>"
     },
     "execution_count": 3,
     "metadata": {},
     "output_type": "execute_result"
    }
   ],
   "source": [
    "group=fish_multi.groupby('species')\n",
    "group.median()\n",
    "group.std()\n",
    "group.describe()"
   ]
  },
  {
   "cell_type": "markdown",
   "metadata": {},
   "source": [
    "### 분할표, 교차분석표 만들기 \n",
    "\n",
    "```\n",
    "shoes=pd.DataFrame({\n",
    "    'store' : ['Seoul','Seoul','Pusan','Pusan'],\n",
    "    'color': ['blue','red','blue','red'],\n",
    "    'sales': [10,15,13,9]\n",
    "})\n",
    "\n",
    "# print the dataframe\n",
    "\n",
    "shoes\n",
    "\n",
    "cross=pd.pivot_table({\n",
    "    data=shoes,\n",
    "    values='sales',\n",
    "    aggfunc=\"sum\",\n",
    "    index=\"store\",\n",
    "    columns='color'\n",
    "})\n",
    "```"
   ]
  },
  {
   "cell_type": "code",
   "execution_count": 4,
   "metadata": {},
   "outputs": [],
   "source": [
    "shoes=pd.DataFrame({\n",
    "    'store' : ['Seoul','Seoul','Pusan','Pusan'],\n",
    "    'color': ['blue','red','blue','red'],\n",
    "    'sales': [10,15,13,9]\n",
    "})"
   ]
  },
  {
   "cell_type": "code",
   "execution_count": 5,
   "metadata": {},
   "outputs": [
    {
     "data": {
      "text/plain": "   store color  sales\n0  Seoul  blue     10\n1  Seoul   red     15\n2  Pusan  blue     13\n3  Pusan   red      9",
      "text/html": "<div>\n<style scoped>\n    .dataframe tbody tr th:only-of-type {\n        vertical-align: middle;\n    }\n\n    .dataframe tbody tr th {\n        vertical-align: top;\n    }\n\n    .dataframe thead th {\n        text-align: right;\n    }\n</style>\n<table border=\"1\" class=\"dataframe\">\n  <thead>\n    <tr style=\"text-align: right;\">\n      <th></th>\n      <th>store</th>\n      <th>color</th>\n      <th>sales</th>\n    </tr>\n  </thead>\n  <tbody>\n    <tr>\n      <th>0</th>\n      <td>Seoul</td>\n      <td>blue</td>\n      <td>10</td>\n    </tr>\n    <tr>\n      <th>1</th>\n      <td>Seoul</td>\n      <td>red</td>\n      <td>15</td>\n    </tr>\n    <tr>\n      <th>2</th>\n      <td>Pusan</td>\n      <td>blue</td>\n      <td>13</td>\n    </tr>\n    <tr>\n      <th>3</th>\n      <td>Pusan</td>\n      <td>red</td>\n      <td>9</td>\n    </tr>\n  </tbody>\n</table>\n</div>"
     },
     "execution_count": 5,
     "metadata": {},
     "output_type": "execute_result"
    }
   ],
   "source": [
    "shoes"
   ]
  },
  {
   "cell_type": "code",
   "execution_count": 6,
   "metadata": {},
   "outputs": [
    {
     "data": {
      "text/plain": "color  blue  red\nstore           \nPusan    13    9\nSeoul    10   15",
      "text/html": "<div>\n<style scoped>\n    .dataframe tbody tr th:only-of-type {\n        vertical-align: middle;\n    }\n\n    .dataframe tbody tr th {\n        vertical-align: top;\n    }\n\n    .dataframe thead th {\n        text-align: right;\n    }\n</style>\n<table border=\"1\" class=\"dataframe\">\n  <thead>\n    <tr style=\"text-align: right;\">\n      <th>color</th>\n      <th>blue</th>\n      <th>red</th>\n    </tr>\n    <tr>\n      <th>store</th>\n      <th></th>\n      <th></th>\n    </tr>\n  </thead>\n  <tbody>\n    <tr>\n      <th>Pusan</th>\n      <td>13</td>\n      <td>9</td>\n    </tr>\n    <tr>\n      <th>Seoul</th>\n      <td>10</td>\n      <td>15</td>\n    </tr>\n  </tbody>\n</table>\n</div>"
     },
     "execution_count": 6,
     "metadata": {},
     "output_type": "execute_result"
    }
   ],
   "source": [
    "cross=pd.pivot_table(\n",
    "    data=shoes,\n",
    "    values='sales',\n",
    "    aggfunc=\"sum\",\n",
    "    index=\"store\",\n",
    "    columns='color'\n",
    ")\n",
    "\n",
    "cross"
   ]
  },
  {
   "cell_type": "code",
   "execution_count": 7,
   "metadata": {},
   "outputs": [
    {
     "data": {
      "text/plain": "species  A  B\nlength   4  7",
      "text/html": "<div>\n<style scoped>\n    .dataframe tbody tr th:only-of-type {\n        vertical-align: middle;\n    }\n\n    .dataframe tbody tr th {\n        vertical-align: top;\n    }\n\n    .dataframe thead th {\n        text-align: right;\n    }\n</style>\n<table border=\"1\" class=\"dataframe\">\n  <thead>\n    <tr style=\"text-align: right;\">\n      <th>species</th>\n      <th>A</th>\n      <th>B</th>\n    </tr>\n  </thead>\n  <tbody>\n    <tr>\n      <th>length</th>\n      <td>4</td>\n      <td>7</td>\n    </tr>\n  </tbody>\n</table>\n</div>"
     },
     "execution_count": 7,
     "metadata": {},
     "output_type": "execute_result"
    }
   ],
   "source": [
    "fish_cross=pd.pivot_table(\n",
    "    data=fish_multi,\n",
    "    values='length',\n",
    "    aggfunc='mean',\n",
    "    columns='species'\n",
    ")\n",
    "\n",
    "fish_cross"
   ]
  },
  {
   "cell_type": "markdown",
   "metadata": {},
   "source": [
    "### 공분산\n",
    "\n",
    "$$ Cov(x,y)= \\frac{1}{N} \\sum_{i=1}^{N} (x_i - \\mu_x ) (y_i - \\mu_y ) $$\n",
    "\n",
    "![그림. 공분산](Cov.gif)\n",
    "\n",
    "- 공분산 > 0 : 한쪽 변수가 증가하면 다른 쪽도 증가\n",
    "- 공분산 ~ 0 : 한쪽 변수가 변화하는 것은 다른 쪽과 관계가 없음\n",
    "- 공분산 < 0 : 한쪽 면수가 증가하면 다른 쪽은 감소\n",
    "\n",
    "N, N-1 차이 \n",
    "\n",
    "### 분산-공분산 행렬\n",
    "\n",
    "$$ Cov(x,y)= \\left [ \\begin{array}{cc} \\sigma_x^2 & Cov(x,y) \\\\ Cov(x,y)& \\sigma_y^2  \\end{array} \\right ] $$\n",
    "\n",
    "```\n",
    "import scipy as sp\n",
    "\n",
    "x=np.array([0,1,2,3,4,5,6,7,8,9])\n",
    "y=np.array([2,3,4,3,5,4,6,7,4,8])\n",
    "\n",
    "sum((x-np.mean(x))*(y-np.mean(y)))/len(x)\n",
    "\n",
    "sp.cov(x,y)\n",
    "```"
   ]
  },
  {
   "cell_type": "code",
   "execution_count": 14,
   "metadata": {},
   "outputs": [
    {
     "data": {
      "text/plain": "array([[9.16666667, 4.66666667],\n       [4.66666667, 3.6       ]])"
     },
     "execution_count": 14,
     "metadata": {},
     "output_type": "execute_result"
    }
   ],
   "source": [
    "import scipy as sp\n",
    "import scipy.stats as ss\n",
    "\n",
    "x=np.array([0,1,2,3,4,5,6,7,8,9])\n",
    "y=np.array([2,3,4,3,5,4,6,7,4,8])\n",
    "\n",
    "np.cov(x,y)"
   ]
  },
  {
   "cell_type": "code",
   "execution_count": 15,
   "metadata": {},
   "outputs": [
    {
     "data": {
      "text/plain": "array([[8.25, 4.2 ],\n       [4.2 , 3.24]])"
     },
     "execution_count": 15,
     "metadata": {},
     "output_type": "execute_result"
    }
   ],
   "source": [
    "np.cov(x,y,ddof=0)"
   ]
  },
  {
   "cell_type": "code",
   "execution_count": 10,
   "metadata": {},
   "outputs": [
    {
     "data": {
      "text/plain": "4.666666666666667"
     },
     "execution_count": 10,
     "metadata": {},
     "output_type": "execute_result"
    }
   ],
   "source": [
    "sum((x-np.mean(x))*(y-np.mean(y)))/(len(x)-1)"
   ]
  },
  {
   "cell_type": "code",
   "execution_count": 11,
   "metadata": {},
   "outputs": [
    {
     "data": {
      "text/plain": "42.0"
     },
     "execution_count": 11,
     "metadata": {},
     "output_type": "execute_result"
    }
   ],
   "source": [
    "sum((x-np.mean(x))*(y-np.mean(y)))"
   ]
  },
  {
   "cell_type": "markdown",
   "metadata": {},
   "source": [
    "### Pearson 상관계수\n",
    "\n",
    "```\n",
    "np.corrcoef(x,y)\n",
    "ss.pearsonr(x,y)\n",
    "\n",
    "```\n",
    "\n",
    "[Link[(https://docs.scipy.org/doc/scipy-0.14.0/reference/generated/scipy.stats.pearsonr.html)"
   ]
  },
  {
   "cell_type": "code",
   "execution_count": 12,
   "metadata": {},
   "outputs": [
    {
     "data": {
      "text/plain": "(0.8123623944599232, 0.004295014485583548)"
     },
     "execution_count": 12,
     "metadata": {},
     "output_type": "execute_result"
    }
   ],
   "source": [
    "ss.pearsonr(x,y)"
   ]
  },
  {
   "cell_type": "code",
   "execution_count": 13,
   "metadata": {},
   "outputs": [
    {
     "data": {
      "text/plain": "array([[1.        , 0.81236239],\n       [0.81236239, 1.        ]])"
     },
     "execution_count": 13,
     "metadata": {},
     "output_type": "execute_result"
    }
   ],
   "source": [
    "np.corrcoef(x,y)"
   ]
  },
  {
   "cell_type": "code",
   "execution_count": null,
   "outputs": [],
   "source": [],
   "metadata": {
    "collapsed": false,
    "pycharm": {
     "name": "#%%\n"
    }
   }
  }
 ],
 "metadata": {
  "kernelspec": {
   "display_name": "Python 3",
   "language": "python",
   "name": "python3"
  },
  "language_info": {
   "codemirror_mode": {
    "name": "ipython",
    "version": 3
   },
   "file_extension": ".py",
   "mimetype": "text/x-python",
   "name": "python",
   "nbconvert_exporter": "python",
   "pygments_lexer": "ipython3",
   "version": "3.7.4"
  }
 },
 "nbformat": 4,
 "nbformat_minor": 2
}