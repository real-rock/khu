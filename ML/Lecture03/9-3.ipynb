{
 "cells": [
  {
   "cell_type": "markdown",
   "metadata": {},
   "source": [
    "### t-값\n",
    "\n",
    "$$ t=\\frac{\\hat{\\mu}-\\mu}{\\frac{\\hat{\\sigma}}{\\sqrt{N}}} $$\n",
    "\n",
    "$$ t= \\frac{표본평균-모평균}{표준오차} $$\n",
    "\n",
    "- 표준화를 했지만 분산의 값이 1이 안됨 ($$ Z=\\frac{X-\\mu}{\\sigma} $$)\n",
    "- 분산이 (표본평균의) 모분산이 아니고 표본분산이기 때문\n",
    "\n",
    "### t-값의 표본분포 (t-분포)\n",
    "\n",
    "예.\n",
    "\n",
    "1. $$N(x|\\mu=4,\\sigma=0.8)$$인 모집단에서 표본추출 시뮬레이션을 함. 샘플사이즈 10\n",
    "2. 얻은 표본의 표본평균을 구함\n",
    "3. 얻은 표본에서 표준오차를 구함. \n",
    "4. t-값 계산\n",
    "5. 이를 10000번 반복 해서 t-값들 집합 완성 \n",
    "\n",
    "\n",
    "### t-분포의 성질\n",
    "\n",
    "- 평균은 0\n",
    "- 분산값: n이 자유도 (N-1) \n",
    "$$ t(n)의 분산 = \\frac{n}{n-2} $$\n"
   ]
  },
  {
   "cell_type": "code",
   "execution_count": 2,
   "metadata": {},
   "outputs": [],
   "source": [
    "import numpy as np\n",
    "import pandas as pd\n",
    "import scipy as sp\n",
    "from scipy import stats\n",
    "from matplotlib import pyplot as plt\n",
    "import seaborn as sns\n",
    "\n",
    "import random as rd\n",
    "\n",
    "sns.set()\n",
    "\n",
    "%precision 3\n",
    "%matplotlib inline"
   ]
  },
  {
   "cell_type": "code",
   "execution_count": 4,
   "metadata": {},
   "outputs": [
    {
     "name": "stdout",
     "output_type": "stream",
     "text": [
      "t value: 0.225\n"
     ]
    }
   ],
   "source": [
    "sample_size = 10\n",
    "sample = np.random.normal(loc=4, scale=0.8, size=sample_size)\n",
    "hat_x = sample.mean()\n",
    "hat_std = sample.std(ddof=1)\n",
    "t_val = (hat_x - 4) / (hat_std / np.sqrt(sample_size))\n",
    "print('t value: %.3f' % t_val)"
   ]
  },
  {
   "cell_type": "code",
   "execution_count": 5,
   "metadata": {},
   "outputs": [
    {
     "data": {
      "text/plain": "array([-0.451,  2.557,  1.389, ..., -0.949, -1.196, -0.509])"
     },
     "execution_count": 5,
     "metadata": {},
     "output_type": "execute_result"
    }
   ],
   "source": [
    "sample_size = 100\n",
    "t_val = np.zeros(10000)\n",
    "for i in range(10000):\n",
    "    sample = np.random.normal(loc=4, scale=0.8, size=sample_size)\n",
    "    hat_x = sample.mean()\n",
    "    hat_std = sample.std(ddof=1)\n",
    "    t_val[i] = (hat_x - 4) / (hat_std / np.sqrt(sample_size))\n",
    "t_val"
   ]
  },
  {
   "cell_type": "code",
   "execution_count": 6,
   "metadata": {},
   "outputs": [
    {
     "name": "stderr",
     "output_type": "stream",
     "text": [
      "/Users/jiheo/opt/anaconda3/envs/khu-ml/lib/python3.6/site-packages/seaborn/distributions.py:2619: FutureWarning: `distplot` is a deprecated function and will be removed in a future version. Please adapt your code to use either `displot` (a figure-level function with similar flexibility) or `histplot` (an axes-level function for histograms).\n",
      "  warnings.warn(msg, FutureWarning)\n"
     ]
    },
    {
     "data": {
      "text/plain": "<Figure size 432x288 with 1 Axes>",
      "image/png": "[encoded data removed]"
     },
     "metadata": {
      "needs_background": "light"
     },
     "output_type": "display_data"
    }
   ],
   "source": [
    "sns.distplot(t_val)\n",
    "x = np.arange(-6, 6.1, 0.1)\n",
    "plt.plot(x, stats.norm.pdf(x), linestyle='dotted')\n",
    "plt.xlim = (-6, 6)"
   ]
  },
  {
   "cell_type": "code",
   "execution_count": null,
   "metadata": {},
   "outputs": [],
   "source": []
  }
 ],
 "metadata": {
  "kernelspec": {
   "display_name": "Python 3",
   "language": "python",
   "name": "python3"
  },
  "language_info": {
   "codemirror_mode": {
    "name": "ipython",
    "version": 3
   },
   "file_extension": ".py",
   "mimetype": "text/x-python",
   "name": "python",
   "nbconvert_exporter": "python",
   "pygments_lexer": "ipython3",
   "version": "3.7.4"
  }
 },
 "nbformat": 4,
 "nbformat_minor": 2
}